{
 "cells": [
  {
   "cell_type": "markdown",
   "metadata": {},
   "source": [
    "### Imports & Installs"
   ]
  },
  {
   "cell_type": "markdown",
   "metadata": {},
   "source": [
    "#### Installs"
   ]
  },
  {
   "cell_type": "code",
   "execution_count": null,
   "metadata": {},
   "outputs": [],
   "source": [
    "!pip3 install openml"
   ]
  },
  {
   "cell_type": "markdown",
   "metadata": {},
   "source": [
    "#### URLs\n",
    "\n",
    "<a src=\"https://docs.openml.org/benchmark/\">https://docs.openml.org/benchmark/</a><br>\n",
    "http://rel.liacs.nl/"
   ]
  },
  {
   "cell_type": "markdown",
   "metadata": {},
   "source": [
    "#### Imports"
   ]
  },
  {
   "cell_type": "code",
   "execution_count": 1,
   "metadata": {},
   "outputs": [],
   "source": [
    "import collections\n",
    "import matplotlib.pyplot as plt\n",
    "import numpy as np\n",
    "import openml\n",
    "import sklearn\n",
    "import pandas as pd\n",
    "\n",
    "from tqdm import tqdm\n",
    "\n",
    "from skopt import BayesSearchCV\n",
    "\n",
    "from sklearn.model_selection import cross_val_score\n",
    "from sklearn.model_selection import train_test_split\n",
    "from sklearn.tree import DecisionTreeClassifier\n",
    "from sklearn.ensemble import RandomForestClassifier\n",
    "from sklearn.svm import SVC\n",
    "from sklearn.neighbors import NearestNeighbors\n",
    "from sklearn.linear_model import LogisticRegression\n",
    "from sklearn.linear_model import SGDClassifier\n",
    "from sklearn.neural_network import MLPClassifier\n",
    "from sklearn.naive_bayes import GaussianNB\n",
    "\n",
    "from sklearn.ensemble import ExtraTreesClassifier\n",
    "from sklearn.feature_selection import SelectFromModel, VarianceThreshold\n",
    "\n",
    "%matplotlib inline"
   ]
  },
  {
   "cell_type": "markdown",
   "metadata": {},
   "source": [
    "### OpenML100"
   ]
  },
  {
   "cell_type": "code",
   "execution_count": null,
   "metadata": {},
   "outputs": [],
   "source": [
    "study_id = 123\n",
    "tag = 'study_%d' % study_id\n",
    "study = openml.study.get_study(study_id, 'tasks')\n",
    "\n",
    "features_dict = {}\n",
    "targets_dict = {}\n",
    "\n",
    "for task_id in study.tasks:\n",
    "    if task_id != 34536: # for whatever reason this one doesn't work\n",
    "        task = openml.tasks.get_task(task_id)\n",
    "        features_dict[task_id], targets_dict[task_id] = task.get_X_and_y() "
   ]
  },
  {
   "cell_type": "code",
   "execution_count": 13,
   "metadata": {},
   "outputs": [],
   "source": [
    "# type(features_dict[3])\n",
    "type(targets_dict[3])\n",
    "# len(targets_dict[3])\n",
    "datasets_sizes = []\n",
    "datasets_sizes2 = []\n",
    "\n",
    "for key in features_dict.keys():\n",
    "    datasets_sizes.append(features_dict[key].shape[0])\n",
    "    datasets_sizes2.append(features_dict[key].shape[1])\n",
    "\n"
   ]
  },
  {
   "cell_type": "markdown",
   "metadata": {},
   "source": [
    "#### Test other"
   ]
  },
  {
   "cell_type": "code",
   "execution_count": 18,
   "metadata": {},
   "outputs": [
    {
     "data": {
      "text/plain": [
       "(array([233.,   1.,   4.,  45.,   2.,   1.,   0.,   4.,   1.,   0.,   0.,\n",
       "          0.,   0.,   0.,   1.,   0.,   0.,   4.,   0.,   2.]),\n",
       " array([1.00000e+00, 3.06890e+03, 6.13680e+03, 9.20470e+03, 1.22726e+04,\n",
       "        1.53405e+04, 1.84084e+04, 2.14763e+04, 2.45442e+04, 2.76121e+04,\n",
       "        3.06800e+04, 3.37479e+04, 3.68158e+04, 3.98837e+04, 4.29516e+04,\n",
       "        4.60195e+04, 4.90874e+04, 5.21553e+04, 5.52232e+04, 5.82911e+04,\n",
       "        6.13590e+04]),\n",
       " <BarContainer object of 20 artists>)"
      ]
     },
     "execution_count": 18,
     "metadata": {},
     "output_type": "execute_result"
    },
    {
     "data": {
      "image/png": "[encoded data removed]",
      "text/plain": [
       "<Figure size 1080x360 with 2 Axes>"
      ]
     },
     "metadata": {
      "needs_background": "light"
     },
     "output_type": "display_data"
    }
   ],
   "source": [
    "plt.figure(figsize=(15,5))\n",
    "\n",
    "plt.subplot(1,2,1)\n",
    "# plt.xscale('log')\n",
    "plt.hist(datasets_sizes, bins=20)\n",
    "\n",
    "plt.subplot(1,2,2)\n",
    "# plt.xscale('log')\n",
    "plt.hist(datasets_sizes2, bins=20)"
   ]
  },
  {
   "cell_type": "code",
   "execution_count": 21,
   "metadata": {},
   "outputs": [
    {
     "data": {
      "text/plain": [
       "61359"
      ]
     },
     "execution_count": 21,
     "metadata": {},
     "output_type": "execute_result"
    }
   ],
   "source": [
    "datasets_sizes2[np.argmax(datasets_sizes2)]"
   ]
  },
  {
   "cell_type": "code",
   "execution_count": 24,
   "metadata": {},
   "outputs": [
    {
     "data": {
      "text/plain": [
       "3932"
      ]
     },
     "execution_count": 24,
     "metadata": {},
     "output_type": "execute_result"
    }
   ],
   "source": [
    "list(features_dict.keys())[165]"
   ]
  },
  {
   "cell_type": "code",
   "execution_count": 28,
   "metadata": {},
   "outputs": [
    {
     "data": {
      "text/plain": [
       "(3196, 36)"
      ]
     },
     "execution_count": 28,
     "metadata": {},
     "output_type": "execute_result"
    }
   ],
   "source": [
    "features_dict[3932].shape\n",
    "features_dict[3932].shape"
   ]
  },
  {
   "cell_type": "code",
   "execution_count": 12,
   "metadata": {},
   "outputs": [],
   "source": [
    "benchmark_suite = openml.study.get_suite(suite_id='OpenML100')"
   ]
  },
  {
   "cell_type": "code",
   "execution_count": 24,
   "metadata": {},
   "outputs": [],
   "source": [
    "features_dict = {}\n",
    "targets_dict = {}\n",
    "\n",
    "for task_id in benchmark_suite.tasks:\n",
    "    if task_id != 34536: # for whatever reason this one doesn't work\n",
    "        # print(type(task_id))\n",
    "        task = openml.tasks.get_task(task_id)\n",
    "        features_dict[task_id], targets_dict[task_id] = task.get_X_and_y() \n",
    "        "
   ]
  },
  {
   "cell_type": "markdown",
   "metadata": {},
   "source": [
    "### OpenML-CC18"
   ]
  },
  {
   "cell_type": "code",
   "execution_count": 3,
   "metadata": {},
   "outputs": [
    {
     "name": "stdout",
     "output_type": "stream",
     "text": [
      "OpenML Benchmark Suite\n",
      "======================\n",
      "ID..............: 99\n",
      "Name............: OpenML-CC18 Curated Classification benchmark\n",
      "Status..........: active\n",
      "Main Entity Type: task\n",
      "Study URL.......: https://www.openml.org/s/99\n",
      "# of Data.......: 72\n",
      "# of Tasks......: 72\n",
      "Creator.........: https://www.openml.org/u/1\n",
      "Upload Time.....: 2019-02-21 18:47:13 \n",
      "======================\n",
      "4/72 datasets used\n"
     ]
    }
   ],
   "source": [
    "benchmark_suite = openml.study.get_suite(suite_id='OpenML-CC18')\n",
    "\n",
    "datasets = []\n",
    "print(benchmark_suite, \"\\n======================\")\n",
    "for dataset_id in benchmark_suite.data:\n",
    "    data = openml.datasets.get_dataset(dataset_id)\n",
    "    if len(data.features) < 6: # This skips one huge dataset, but reduces time\n",
    "        X, y, categorical_indicator, attribute_names = data.get_data(\n",
    "            dataset_format=\"array\", target=data.default_target_attribute\n",
    "        )\n",
    "        df = pd.DataFrame(X, columns=attribute_names)\n",
    "        df[\"target\"] = y\n",
    "        df[\"dataset_id\"] = data.id\n",
    "        datasets.append(df)\n",
    "    \n",
    "print(f\"{len(datasets)}/{len(benchmark_suite.data)} datasets used\")"
   ]
  },
  {
   "cell_type": "code",
   "execution_count": 2,
   "metadata": {},
   "outputs": [],
   "source": [
    "# Models\n",
    "models = [\n",
    "    # (\"DecisionTreeClassifier\", DecisionTreeClassifier()),\n",
    "    (\"RandomForestClassifier\", RandomForestClassifier()),\n",
    "    (\"SVC\", SVC()), \n",
    "    # (\"NearestNeighbors\", NearestNeighbors()),\n",
    "    # (\"LogisticRegression\", LogisticRegression()), \n",
    "    # (\"SGDClassifier\", SGDClassifier()), \n",
    "    # (\"MLPClassifier\", MLPClassifier()),\n",
    "    # (\"GaussianNB\", GaussianNB())\n",
    "]\n",
    "\n",
    "# Hyper parameter spaces for bayesian optimization\n",
    "hyper_params = {\n",
    "    \"RandomForestClassifier\": {\n",
    "        \"n_estimators\": (50, 500),\n",
    "        \"max_features\": [\"auto\", \"sqrt\"],\n",
    "        \"max_depth\": (1, 1000),\n",
    "        \"min_samples_split\": (2, 10),\n",
    "        \"min_samples_leaf\": (1, 10),\n",
    "        },\n",
    "    \"SVC\": {\n",
    "        'C': (1e-6, 1e+6, 'log-uniform'),\n",
    "        'gamma': (1e-6, 1e+1, 'log-uniform'),\n",
    "        'degree': (1, 8),  # integer valued parameter\n",
    "        'kernel': ['linear', 'poly', 'rbf'],  # categorical parameter\n",
    "    }\n",
    "}"
   ]
  },
  {
   "cell_type": "code",
   "execution_count": 6,
   "metadata": {},
   "outputs": [],
   "source": [
    "from functions import get_datasets\n",
    "\n",
    "datasets = get_datasets(random_cnt=2)"
   ]
  },
  {
   "cell_type": "code",
   "execution_count": 7,
   "metadata": {},
   "outputs": [
    {
     "name": "stderr",
     "output_type": "stream",
     "text": [
      "0it [00:00, ?it/s]\n",
      "  0%|          | 0/2 [04:01<?, ?it/s]\u001B[A\n",
      "0it [04:01, ?it/s]\n"
     ]
    },
    {
     "ename": "ValueError",
     "evalue": "array must not contain infs or NaNs",
     "output_type": "error",
     "traceback": [
      "\u001B[0;31m---------------------------------------------------------------------------\u001B[0m",
      "\u001B[0;31mValueError\u001B[0m                                Traceback (most recent call last)",
      "\u001B[0;32m<ipython-input-7-e6ac5ced1ca3>\u001B[0m in \u001B[0;36m<module>\u001B[0;34m\u001B[0m\n\u001B[1;32m     24\u001B[0m             \u001B[0mX_train\u001B[0m\u001B[0;34m,\u001B[0m \u001B[0mX_test\u001B[0m\u001B[0;34m,\u001B[0m \u001B[0my_train\u001B[0m\u001B[0;34m,\u001B[0m \u001B[0my_test\u001B[0m \u001B[0;34m=\u001B[0m \u001B[0mtrain_test_split\u001B[0m\u001B[0;34m(\u001B[0m\u001B[0mX\u001B[0m\u001B[0;34m,\u001B[0m \u001B[0my\u001B[0m\u001B[0;34m,\u001B[0m \u001B[0mtrain_size\u001B[0m\u001B[0;34m=\u001B[0m\u001B[0;36m0.72\u001B[0m\u001B[0;34m,\u001B[0m \u001B[0mrandom_state\u001B[0m\u001B[0;34m=\u001B[0m\u001B[0;36m42\u001B[0m\u001B[0;34m)\u001B[0m\u001B[0;34m\u001B[0m\u001B[0;34m\u001B[0m\u001B[0m\n\u001B[1;32m     25\u001B[0m             \u001B[0mbayesian\u001B[0m \u001B[0;34m=\u001B[0m \u001B[0mBayesSearchCV\u001B[0m\u001B[0;34m(\u001B[0m\u001B[0mmodel\u001B[0m\u001B[0;34m,\u001B[0m \u001B[0mhyper_params\u001B[0m\u001B[0;34m[\u001B[0m\u001B[0mname\u001B[0m\u001B[0;34m]\u001B[0m\u001B[0;34m,\u001B[0m \u001B[0mn_iter\u001B[0m\u001B[0;34m=\u001B[0m\u001B[0;36m50\u001B[0m\u001B[0;34m,\u001B[0m \u001B[0mn_points\u001B[0m\u001B[0;34m=\u001B[0m\u001B[0;36m32\u001B[0m\u001B[0;34m,\u001B[0m \u001B[0mn_jobs\u001B[0m\u001B[0;34m=\u001B[0m\u001B[0;34m-\u001B[0m\u001B[0;36m1\u001B[0m\u001B[0;34m,\u001B[0m \u001B[0mcv\u001B[0m\u001B[0;34m=\u001B[0m\u001B[0;36m3\u001B[0m\u001B[0;34m)\u001B[0m \u001B[0;31m# Takes a long time!\u001B[0m\u001B[0;34m\u001B[0m\u001B[0;34m\u001B[0m\u001B[0m\n\u001B[0;32m---> 26\u001B[0;31m             \u001B[0mbayesian\u001B[0m \u001B[0;34m=\u001B[0m \u001B[0mbayesian\u001B[0m\u001B[0;34m.\u001B[0m\u001B[0mfit\u001B[0m\u001B[0;34m(\u001B[0m\u001B[0mX_train\u001B[0m\u001B[0;34m,\u001B[0m \u001B[0my_train\u001B[0m\u001B[0;34m)\u001B[0m\u001B[0;34m\u001B[0m\u001B[0;34m\u001B[0m\u001B[0m\n\u001B[0m\u001B[1;32m     27\u001B[0m             \u001B[0mopt\u001B[0m \u001B[0;34m=\u001B[0m \u001B[0mbayesian\u001B[0m\u001B[0;34m.\u001B[0m\u001B[0mbest_estimator_\u001B[0m\u001B[0;34m\u001B[0m\u001B[0;34m\u001B[0m\u001B[0m\n\u001B[1;32m     28\u001B[0m \u001B[0;34m\u001B[0m\u001B[0m\n",
      "\u001B[0;32m~/.local/lib/python3.9/site-packages/skopt/searchcv.py\u001B[0m in \u001B[0;36mfit\u001B[0;34m(self, X, y, groups, callback)\u001B[0m\n\u001B[1;32m    690\u001B[0m                 \u001B[0mn_points_adjusted\u001B[0m \u001B[0;34m=\u001B[0m \u001B[0mmin\u001B[0m\u001B[0;34m(\u001B[0m\u001B[0mn_iter\u001B[0m\u001B[0;34m,\u001B[0m \u001B[0mn_points\u001B[0m\u001B[0;34m)\u001B[0m\u001B[0;34m\u001B[0m\u001B[0;34m\u001B[0m\u001B[0m\n\u001B[1;32m    691\u001B[0m \u001B[0;34m\u001B[0m\u001B[0m\n\u001B[0;32m--> 692\u001B[0;31m                 optim_result = self._step(\n\u001B[0m\u001B[1;32m    693\u001B[0m                     \u001B[0mX\u001B[0m\u001B[0;34m,\u001B[0m \u001B[0my\u001B[0m\u001B[0;34m,\u001B[0m \u001B[0msearch_space\u001B[0m\u001B[0;34m,\u001B[0m \u001B[0moptimizer\u001B[0m\u001B[0;34m,\u001B[0m\u001B[0;34m\u001B[0m\u001B[0;34m\u001B[0m\u001B[0m\n\u001B[1;32m    694\u001B[0m                     \u001B[0mgroups\u001B[0m\u001B[0;34m=\u001B[0m\u001B[0mgroups\u001B[0m\u001B[0;34m,\u001B[0m \u001B[0mn_points\u001B[0m\u001B[0;34m=\u001B[0m\u001B[0mn_points_adjusted\u001B[0m\u001B[0;34m\u001B[0m\u001B[0;34m\u001B[0m\u001B[0m\n",
      "\u001B[0;32m~/.local/lib/python3.9/site-packages/skopt/searchcv.py\u001B[0m in \u001B[0;36m_step\u001B[0;34m(self, X, y, search_space, optimizer, groups, n_points)\u001B[0m\n\u001B[1;32m    563\u001B[0m \u001B[0;34m\u001B[0m\u001B[0m\n\u001B[1;32m    564\u001B[0m         \u001B[0;31m# get parameter values to evaluate\u001B[0m\u001B[0;34m\u001B[0m\u001B[0;34m\u001B[0m\u001B[0;34m\u001B[0m\u001B[0m\n\u001B[0;32m--> 565\u001B[0;31m         \u001B[0mparams\u001B[0m \u001B[0;34m=\u001B[0m \u001B[0moptimizer\u001B[0m\u001B[0;34m.\u001B[0m\u001B[0mask\u001B[0m\u001B[0;34m(\u001B[0m\u001B[0mn_points\u001B[0m\u001B[0;34m=\u001B[0m\u001B[0mn_points\u001B[0m\u001B[0;34m)\u001B[0m\u001B[0;34m\u001B[0m\u001B[0;34m\u001B[0m\u001B[0m\n\u001B[0m\u001B[1;32m    566\u001B[0m \u001B[0;34m\u001B[0m\u001B[0m\n\u001B[1;32m    567\u001B[0m         \u001B[0;31m# convert parameters to python native types\u001B[0m\u001B[0;34m\u001B[0m\u001B[0;34m\u001B[0m\u001B[0;34m\u001B[0m\u001B[0m\n",
      "\u001B[0;32m~/.local/lib/python3.9/site-packages/skopt/optimizer/optimizer.py\u001B[0m in \u001B[0;36mask\u001B[0;34m(self, n_points, strategy)\u001B[0m\n\u001B[1;32m    415\u001B[0m                 \u001B[0mopt\u001B[0m\u001B[0;34m.\u001B[0m\u001B[0m_tell\u001B[0m\u001B[0;34m(\u001B[0m\u001B[0mx\u001B[0m\u001B[0;34m,\u001B[0m \u001B[0;34m(\u001B[0m\u001B[0my_lie\u001B[0m\u001B[0;34m,\u001B[0m \u001B[0mt_lie\u001B[0m\u001B[0;34m)\u001B[0m\u001B[0;34m)\u001B[0m\u001B[0;34m\u001B[0m\u001B[0;34m\u001B[0m\u001B[0m\n\u001B[1;32m    416\u001B[0m             \u001B[0;32melse\u001B[0m\u001B[0;34m:\u001B[0m\u001B[0;34m\u001B[0m\u001B[0;34m\u001B[0m\u001B[0m\n\u001B[0;32m--> 417\u001B[0;31m                 \u001B[0mopt\u001B[0m\u001B[0;34m.\u001B[0m\u001B[0m_tell\u001B[0m\u001B[0;34m(\u001B[0m\u001B[0mx\u001B[0m\u001B[0;34m,\u001B[0m \u001B[0my_lie\u001B[0m\u001B[0;34m)\u001B[0m\u001B[0;34m\u001B[0m\u001B[0;34m\u001B[0m\u001B[0m\n\u001B[0m\u001B[1;32m    418\u001B[0m \u001B[0;34m\u001B[0m\u001B[0m\n\u001B[1;32m    419\u001B[0m         \u001B[0mself\u001B[0m\u001B[0;34m.\u001B[0m\u001B[0mcache_\u001B[0m \u001B[0;34m=\u001B[0m \u001B[0;34m{\u001B[0m\u001B[0;34m(\u001B[0m\u001B[0mn_points\u001B[0m\u001B[0;34m,\u001B[0m \u001B[0mstrategy\u001B[0m\u001B[0;34m)\u001B[0m\u001B[0;34m:\u001B[0m \u001B[0mX\u001B[0m\u001B[0;34m}\u001B[0m  \u001B[0;31m# cache_ the result\u001B[0m\u001B[0;34m\u001B[0m\u001B[0;34m\u001B[0m\u001B[0m\n",
      "\u001B[0;32m~/.local/lib/python3.9/site-packages/skopt/optimizer/optimizer.py\u001B[0m in \u001B[0;36m_tell\u001B[0;34m(self, x, y, fit)\u001B[0m\n\u001B[1;32m    534\u001B[0m             \u001B[0;32mwith\u001B[0m \u001B[0mwarnings\u001B[0m\u001B[0;34m.\u001B[0m\u001B[0mcatch_warnings\u001B[0m\u001B[0;34m(\u001B[0m\u001B[0;34m)\u001B[0m\u001B[0;34m:\u001B[0m\u001B[0;34m\u001B[0m\u001B[0;34m\u001B[0m\u001B[0m\n\u001B[1;32m    535\u001B[0m                 \u001B[0mwarnings\u001B[0m\u001B[0;34m.\u001B[0m\u001B[0msimplefilter\u001B[0m\u001B[0;34m(\u001B[0m\u001B[0;34m\"ignore\"\u001B[0m\u001B[0;34m)\u001B[0m\u001B[0;34m\u001B[0m\u001B[0;34m\u001B[0m\u001B[0m\n\u001B[0;32m--> 536\u001B[0;31m                 \u001B[0mest\u001B[0m\u001B[0;34m.\u001B[0m\u001B[0mfit\u001B[0m\u001B[0;34m(\u001B[0m\u001B[0mself\u001B[0m\u001B[0;34m.\u001B[0m\u001B[0mspace\u001B[0m\u001B[0;34m.\u001B[0m\u001B[0mtransform\u001B[0m\u001B[0;34m(\u001B[0m\u001B[0mself\u001B[0m\u001B[0;34m.\u001B[0m\u001B[0mXi\u001B[0m\u001B[0;34m)\u001B[0m\u001B[0;34m,\u001B[0m \u001B[0mself\u001B[0m\u001B[0;34m.\u001B[0m\u001B[0myi\u001B[0m\u001B[0;34m)\u001B[0m\u001B[0;34m\u001B[0m\u001B[0;34m\u001B[0m\u001B[0m\n\u001B[0m\u001B[1;32m    537\u001B[0m \u001B[0;34m\u001B[0m\u001B[0m\n\u001B[1;32m    538\u001B[0m             \u001B[0;32mif\u001B[0m \u001B[0mhasattr\u001B[0m\u001B[0;34m(\u001B[0m\u001B[0mself\u001B[0m\u001B[0;34m,\u001B[0m \u001B[0;34m\"next_xs_\"\u001B[0m\u001B[0;34m)\u001B[0m \u001B[0;32mand\u001B[0m \u001B[0mself\u001B[0m\u001B[0;34m.\u001B[0m\u001B[0macq_func\u001B[0m \u001B[0;34m==\u001B[0m \u001B[0;34m\"gp_hedge\"\u001B[0m\u001B[0;34m:\u001B[0m\u001B[0;34m\u001B[0m\u001B[0;34m\u001B[0m\u001B[0m\n",
      "\u001B[0;32m~/.local/lib/python3.9/site-packages/skopt/learning/gaussian_process/gpr.py\u001B[0m in \u001B[0;36mfit\u001B[0;34m(self, X, y)\u001B[0m\n\u001B[1;32m    193\u001B[0m                 \u001B[0mnoise_level\u001B[0m\u001B[0;34m=\u001B[0m\u001B[0mself\u001B[0m\u001B[0;34m.\u001B[0m\u001B[0mnoise\u001B[0m\u001B[0;34m,\u001B[0m \u001B[0mnoise_level_bounds\u001B[0m\u001B[0;34m=\u001B[0m\u001B[0;34m\"fixed\"\u001B[0m\u001B[0;34m\u001B[0m\u001B[0;34m\u001B[0m\u001B[0m\n\u001B[1;32m    194\u001B[0m             )\n\u001B[0;32m--> 195\u001B[0;31m         \u001B[0msuper\u001B[0m\u001B[0;34m(\u001B[0m\u001B[0mGaussianProcessRegressor\u001B[0m\u001B[0;34m,\u001B[0m \u001B[0mself\u001B[0m\u001B[0;34m)\u001B[0m\u001B[0;34m.\u001B[0m\u001B[0mfit\u001B[0m\u001B[0;34m(\u001B[0m\u001B[0mX\u001B[0m\u001B[0;34m,\u001B[0m \u001B[0my\u001B[0m\u001B[0;34m)\u001B[0m\u001B[0;34m\u001B[0m\u001B[0;34m\u001B[0m\u001B[0m\n\u001B[0m\u001B[1;32m    196\u001B[0m \u001B[0;34m\u001B[0m\u001B[0m\n\u001B[1;32m    197\u001B[0m         \u001B[0mself\u001B[0m\u001B[0;34m.\u001B[0m\u001B[0mnoise_\u001B[0m \u001B[0;34m=\u001B[0m \u001B[0;32mNone\u001B[0m\u001B[0;34m\u001B[0m\u001B[0;34m\u001B[0m\u001B[0m\n",
      "\u001B[0;32m~/.local/lib/python3.9/site-packages/sklearn/gaussian_process/_gpr.py\u001B[0m in \u001B[0;36mfit\u001B[0;34m(self, X, y)\u001B[0m\n\u001B[1;32m    230\u001B[0m \u001B[0;34m\u001B[0m\u001B[0m\n\u001B[1;32m    231\u001B[0m             \u001B[0;31m# First optimize starting from theta specified in kernel\u001B[0m\u001B[0;34m\u001B[0m\u001B[0;34m\u001B[0m\u001B[0;34m\u001B[0m\u001B[0m\n\u001B[0;32m--> 232\u001B[0;31m             optima = [(self._constrained_optimization(obj_func,\n\u001B[0m\u001B[1;32m    233\u001B[0m                                                       \u001B[0mself\u001B[0m\u001B[0;34m.\u001B[0m\u001B[0mkernel_\u001B[0m\u001B[0;34m.\u001B[0m\u001B[0mtheta\u001B[0m\u001B[0;34m,\u001B[0m\u001B[0;34m\u001B[0m\u001B[0;34m\u001B[0m\u001B[0m\n\u001B[1;32m    234\u001B[0m                                                       self.kernel_.bounds))]\n",
      "\u001B[0;32m~/.local/lib/python3.9/site-packages/sklearn/gaussian_process/_gpr.py\u001B[0m in \u001B[0;36m_constrained_optimization\u001B[0;34m(self, obj_func, initial_theta, bounds)\u001B[0m\n\u001B[1;32m    499\u001B[0m     \u001B[0;32mdef\u001B[0m \u001B[0m_constrained_optimization\u001B[0m\u001B[0;34m(\u001B[0m\u001B[0mself\u001B[0m\u001B[0;34m,\u001B[0m \u001B[0mobj_func\u001B[0m\u001B[0;34m,\u001B[0m \u001B[0minitial_theta\u001B[0m\u001B[0;34m,\u001B[0m \u001B[0mbounds\u001B[0m\u001B[0;34m)\u001B[0m\u001B[0;34m:\u001B[0m\u001B[0;34m\u001B[0m\u001B[0;34m\u001B[0m\u001B[0m\n\u001B[1;32m    500\u001B[0m         \u001B[0;32mif\u001B[0m \u001B[0mself\u001B[0m\u001B[0;34m.\u001B[0m\u001B[0moptimizer\u001B[0m \u001B[0;34m==\u001B[0m \u001B[0;34m\"fmin_l_bfgs_b\"\u001B[0m\u001B[0;34m:\u001B[0m\u001B[0;34m\u001B[0m\u001B[0;34m\u001B[0m\u001B[0m\n\u001B[0;32m--> 501\u001B[0;31m             opt_res = scipy.optimize.minimize(\n\u001B[0m\u001B[1;32m    502\u001B[0m                 \u001B[0mobj_func\u001B[0m\u001B[0;34m,\u001B[0m \u001B[0minitial_theta\u001B[0m\u001B[0;34m,\u001B[0m \u001B[0mmethod\u001B[0m\u001B[0;34m=\u001B[0m\u001B[0;34m\"L-BFGS-B\"\u001B[0m\u001B[0;34m,\u001B[0m \u001B[0mjac\u001B[0m\u001B[0;34m=\u001B[0m\u001B[0;32mTrue\u001B[0m\u001B[0;34m,\u001B[0m\u001B[0;34m\u001B[0m\u001B[0;34m\u001B[0m\u001B[0m\n\u001B[1;32m    503\u001B[0m                 bounds=bounds)\n",
      "\u001B[0;32m~/.local/lib/python3.9/site-packages/scipy/optimize/_minimize.py\u001B[0m in \u001B[0;36mminimize\u001B[0;34m(fun, x0, args, method, jac, hess, hessp, bounds, constraints, tol, callback, options)\u001B[0m\n\u001B[1;32m    621\u001B[0m                                   **options)\n\u001B[1;32m    622\u001B[0m     \u001B[0;32melif\u001B[0m \u001B[0mmeth\u001B[0m \u001B[0;34m==\u001B[0m \u001B[0;34m'l-bfgs-b'\u001B[0m\u001B[0;34m:\u001B[0m\u001B[0;34m\u001B[0m\u001B[0;34m\u001B[0m\u001B[0m\n\u001B[0;32m--> 623\u001B[0;31m         return _minimize_lbfgsb(fun, x0, args, jac, bounds,\n\u001B[0m\u001B[1;32m    624\u001B[0m                                 callback=callback, **options)\n\u001B[1;32m    625\u001B[0m     \u001B[0;32melif\u001B[0m \u001B[0mmeth\u001B[0m \u001B[0;34m==\u001B[0m \u001B[0;34m'tnc'\u001B[0m\u001B[0;34m:\u001B[0m\u001B[0;34m\u001B[0m\u001B[0;34m\u001B[0m\u001B[0m\n",
      "\u001B[0;32m~/.local/lib/python3.9/site-packages/scipy/optimize/lbfgsb.py\u001B[0m in \u001B[0;36m_minimize_lbfgsb\u001B[0;34m(fun, x0, args, jac, bounds, disp, maxcor, ftol, gtol, eps, maxfun, maxiter, iprint, callback, maxls, finite_diff_rel_step, **unknown_options)\u001B[0m\n\u001B[1;32m    304\u001B[0m             \u001B[0miprint\u001B[0m \u001B[0;34m=\u001B[0m \u001B[0mdisp\u001B[0m\u001B[0;34m\u001B[0m\u001B[0;34m\u001B[0m\u001B[0m\n\u001B[1;32m    305\u001B[0m \u001B[0;34m\u001B[0m\u001B[0m\n\u001B[0;32m--> 306\u001B[0;31m     sf = _prepare_scalar_function(fun, x0, jac=jac, args=args, epsilon=eps,\n\u001B[0m\u001B[1;32m    307\u001B[0m                                   \u001B[0mbounds\u001B[0m\u001B[0;34m=\u001B[0m\u001B[0mnew_bounds\u001B[0m\u001B[0;34m,\u001B[0m\u001B[0;34m\u001B[0m\u001B[0;34m\u001B[0m\u001B[0m\n\u001B[1;32m    308\u001B[0m                                   finite_diff_rel_step=finite_diff_rel_step)\n",
      "\u001B[0;32m~/.local/lib/python3.9/site-packages/scipy/optimize/optimize.py\u001B[0m in \u001B[0;36m_prepare_scalar_function\u001B[0;34m(fun, x0, jac, args, bounds, epsilon, finite_diff_rel_step, hess)\u001B[0m\n\u001B[1;32m    259\u001B[0m     \u001B[0;31m# ScalarFunction caches. Reuse of fun(x) during grad\u001B[0m\u001B[0;34m\u001B[0m\u001B[0;34m\u001B[0m\u001B[0;34m\u001B[0m\u001B[0m\n\u001B[1;32m    260\u001B[0m     \u001B[0;31m# calculation reduces overall function evaluations.\u001B[0m\u001B[0;34m\u001B[0m\u001B[0;34m\u001B[0m\u001B[0;34m\u001B[0m\u001B[0m\n\u001B[0;32m--> 261\u001B[0;31m     sf = ScalarFunction(fun, x0, args, grad, hess,\n\u001B[0m\u001B[1;32m    262\u001B[0m                         finite_diff_rel_step, bounds, epsilon=epsilon)\n\u001B[1;32m    263\u001B[0m \u001B[0;34m\u001B[0m\u001B[0m\n",
      "\u001B[0;32m~/.local/lib/python3.9/site-packages/scipy/optimize/_differentiable_functions.py\u001B[0m in \u001B[0;36m__init__\u001B[0;34m(self, fun, x0, args, grad, hess, finite_diff_rel_step, finite_diff_bounds, epsilon)\u001B[0m\n\u001B[1;32m    138\u001B[0m \u001B[0;34m\u001B[0m\u001B[0m\n\u001B[1;32m    139\u001B[0m         \u001B[0mself\u001B[0m\u001B[0;34m.\u001B[0m\u001B[0m_update_fun_impl\u001B[0m \u001B[0;34m=\u001B[0m \u001B[0mupdate_fun\u001B[0m\u001B[0;34m\u001B[0m\u001B[0;34m\u001B[0m\u001B[0m\n\u001B[0;32m--> 140\u001B[0;31m         \u001B[0mself\u001B[0m\u001B[0;34m.\u001B[0m\u001B[0m_update_fun\u001B[0m\u001B[0;34m(\u001B[0m\u001B[0;34m)\u001B[0m\u001B[0;34m\u001B[0m\u001B[0;34m\u001B[0m\u001B[0m\n\u001B[0m\u001B[1;32m    141\u001B[0m \u001B[0;34m\u001B[0m\u001B[0m\n\u001B[1;32m    142\u001B[0m         \u001B[0;31m# Gradient evaluation\u001B[0m\u001B[0;34m\u001B[0m\u001B[0;34m\u001B[0m\u001B[0;34m\u001B[0m\u001B[0m\n",
      "\u001B[0;32m~/.local/lib/python3.9/site-packages/scipy/optimize/_differentiable_functions.py\u001B[0m in \u001B[0;36m_update_fun\u001B[0;34m(self)\u001B[0m\n\u001B[1;32m    231\u001B[0m     \u001B[0;32mdef\u001B[0m \u001B[0m_update_fun\u001B[0m\u001B[0;34m(\u001B[0m\u001B[0mself\u001B[0m\u001B[0;34m)\u001B[0m\u001B[0;34m:\u001B[0m\u001B[0;34m\u001B[0m\u001B[0;34m\u001B[0m\u001B[0m\n\u001B[1;32m    232\u001B[0m         \u001B[0;32mif\u001B[0m \u001B[0;32mnot\u001B[0m \u001B[0mself\u001B[0m\u001B[0;34m.\u001B[0m\u001B[0mf_updated\u001B[0m\u001B[0;34m:\u001B[0m\u001B[0;34m\u001B[0m\u001B[0;34m\u001B[0m\u001B[0m\n\u001B[0;32m--> 233\u001B[0;31m             \u001B[0mself\u001B[0m\u001B[0;34m.\u001B[0m\u001B[0m_update_fun_impl\u001B[0m\u001B[0;34m(\u001B[0m\u001B[0;34m)\u001B[0m\u001B[0;34m\u001B[0m\u001B[0;34m\u001B[0m\u001B[0m\n\u001B[0m\u001B[1;32m    234\u001B[0m             \u001B[0mself\u001B[0m\u001B[0;34m.\u001B[0m\u001B[0mf_updated\u001B[0m \u001B[0;34m=\u001B[0m \u001B[0;32mTrue\u001B[0m\u001B[0;34m\u001B[0m\u001B[0;34m\u001B[0m\u001B[0m\n\u001B[1;32m    235\u001B[0m \u001B[0;34m\u001B[0m\u001B[0m\n",
      "\u001B[0;32m~/.local/lib/python3.9/site-packages/scipy/optimize/_differentiable_functions.py\u001B[0m in \u001B[0;36mupdate_fun\u001B[0;34m()\u001B[0m\n\u001B[1;32m    135\u001B[0m \u001B[0;34m\u001B[0m\u001B[0m\n\u001B[1;32m    136\u001B[0m         \u001B[0;32mdef\u001B[0m \u001B[0mupdate_fun\u001B[0m\u001B[0;34m(\u001B[0m\u001B[0;34m)\u001B[0m\u001B[0;34m:\u001B[0m\u001B[0;34m\u001B[0m\u001B[0;34m\u001B[0m\u001B[0m\n\u001B[0;32m--> 137\u001B[0;31m             \u001B[0mself\u001B[0m\u001B[0;34m.\u001B[0m\u001B[0mf\u001B[0m \u001B[0;34m=\u001B[0m \u001B[0mfun_wrapped\u001B[0m\u001B[0;34m(\u001B[0m\u001B[0mself\u001B[0m\u001B[0;34m.\u001B[0m\u001B[0mx\u001B[0m\u001B[0;34m)\u001B[0m\u001B[0;34m\u001B[0m\u001B[0;34m\u001B[0m\u001B[0m\n\u001B[0m\u001B[1;32m    138\u001B[0m \u001B[0;34m\u001B[0m\u001B[0m\n\u001B[1;32m    139\u001B[0m         \u001B[0mself\u001B[0m\u001B[0;34m.\u001B[0m\u001B[0m_update_fun_impl\u001B[0m \u001B[0;34m=\u001B[0m \u001B[0mupdate_fun\u001B[0m\u001B[0;34m\u001B[0m\u001B[0;34m\u001B[0m\u001B[0m\n",
      "\u001B[0;32m~/.local/lib/python3.9/site-packages/scipy/optimize/_differentiable_functions.py\u001B[0m in \u001B[0;36mfun_wrapped\u001B[0;34m(x)\u001B[0m\n\u001B[1;32m    132\u001B[0m             \u001B[0;31m# Overwriting results in undefined behaviour because\u001B[0m\u001B[0;34m\u001B[0m\u001B[0;34m\u001B[0m\u001B[0;34m\u001B[0m\u001B[0m\n\u001B[1;32m    133\u001B[0m             \u001B[0;31m# fun(self.x) will change self.x, with the two no longer linked.\u001B[0m\u001B[0;34m\u001B[0m\u001B[0;34m\u001B[0m\u001B[0;34m\u001B[0m\u001B[0m\n\u001B[0;32m--> 134\u001B[0;31m             \u001B[0;32mreturn\u001B[0m \u001B[0mfun\u001B[0m\u001B[0;34m(\u001B[0m\u001B[0mnp\u001B[0m\u001B[0;34m.\u001B[0m\u001B[0mcopy\u001B[0m\u001B[0;34m(\u001B[0m\u001B[0mx\u001B[0m\u001B[0;34m)\u001B[0m\u001B[0;34m,\u001B[0m \u001B[0;34m*\u001B[0m\u001B[0margs\u001B[0m\u001B[0;34m)\u001B[0m\u001B[0;34m\u001B[0m\u001B[0;34m\u001B[0m\u001B[0m\n\u001B[0m\u001B[1;32m    135\u001B[0m \u001B[0;34m\u001B[0m\u001B[0m\n\u001B[1;32m    136\u001B[0m         \u001B[0;32mdef\u001B[0m \u001B[0mupdate_fun\u001B[0m\u001B[0;34m(\u001B[0m\u001B[0;34m)\u001B[0m\u001B[0;34m:\u001B[0m\u001B[0;34m\u001B[0m\u001B[0;34m\u001B[0m\u001B[0m\n",
      "\u001B[0;32m~/.local/lib/python3.9/site-packages/scipy/optimize/optimize.py\u001B[0m in \u001B[0;36m__call__\u001B[0;34m(self, x, *args)\u001B[0m\n\u001B[1;32m     72\u001B[0m     \u001B[0;32mdef\u001B[0m \u001B[0m__call__\u001B[0m\u001B[0;34m(\u001B[0m\u001B[0mself\u001B[0m\u001B[0;34m,\u001B[0m \u001B[0mx\u001B[0m\u001B[0;34m,\u001B[0m \u001B[0;34m*\u001B[0m\u001B[0margs\u001B[0m\u001B[0;34m)\u001B[0m\u001B[0;34m:\u001B[0m\u001B[0;34m\u001B[0m\u001B[0;34m\u001B[0m\u001B[0m\n\u001B[1;32m     73\u001B[0m         \u001B[0;34m\"\"\" returns the the function value \"\"\"\u001B[0m\u001B[0;34m\u001B[0m\u001B[0;34m\u001B[0m\u001B[0m\n\u001B[0;32m---> 74\u001B[0;31m         \u001B[0mself\u001B[0m\u001B[0;34m.\u001B[0m\u001B[0m_compute_if_needed\u001B[0m\u001B[0;34m(\u001B[0m\u001B[0mx\u001B[0m\u001B[0;34m,\u001B[0m \u001B[0;34m*\u001B[0m\u001B[0margs\u001B[0m\u001B[0;34m)\u001B[0m\u001B[0;34m\u001B[0m\u001B[0;34m\u001B[0m\u001B[0m\n\u001B[0m\u001B[1;32m     75\u001B[0m         \u001B[0;32mreturn\u001B[0m \u001B[0mself\u001B[0m\u001B[0;34m.\u001B[0m\u001B[0m_value\u001B[0m\u001B[0;34m\u001B[0m\u001B[0;34m\u001B[0m\u001B[0m\n\u001B[1;32m     76\u001B[0m \u001B[0;34m\u001B[0m\u001B[0m\n",
      "\u001B[0;32m~/.local/lib/python3.9/site-packages/scipy/optimize/optimize.py\u001B[0m in \u001B[0;36m_compute_if_needed\u001B[0;34m(self, x, *args)\u001B[0m\n\u001B[1;32m     66\u001B[0m         \u001B[0;32mif\u001B[0m \u001B[0;32mnot\u001B[0m \u001B[0mnp\u001B[0m\u001B[0;34m.\u001B[0m\u001B[0mall\u001B[0m\u001B[0;34m(\u001B[0m\u001B[0mx\u001B[0m \u001B[0;34m==\u001B[0m \u001B[0mself\u001B[0m\u001B[0;34m.\u001B[0m\u001B[0mx\u001B[0m\u001B[0;34m)\u001B[0m \u001B[0;32mor\u001B[0m \u001B[0mself\u001B[0m\u001B[0;34m.\u001B[0m\u001B[0m_value\u001B[0m \u001B[0;32mis\u001B[0m \u001B[0;32mNone\u001B[0m \u001B[0;32mor\u001B[0m \u001B[0mself\u001B[0m\u001B[0;34m.\u001B[0m\u001B[0mjac\u001B[0m \u001B[0;32mis\u001B[0m \u001B[0;32mNone\u001B[0m\u001B[0;34m:\u001B[0m\u001B[0;34m\u001B[0m\u001B[0;34m\u001B[0m\u001B[0m\n\u001B[1;32m     67\u001B[0m             \u001B[0mself\u001B[0m\u001B[0;34m.\u001B[0m\u001B[0mx\u001B[0m \u001B[0;34m=\u001B[0m \u001B[0mnp\u001B[0m\u001B[0;34m.\u001B[0m\u001B[0masarray\u001B[0m\u001B[0;34m(\u001B[0m\u001B[0mx\u001B[0m\u001B[0;34m)\u001B[0m\u001B[0;34m.\u001B[0m\u001B[0mcopy\u001B[0m\u001B[0;34m(\u001B[0m\u001B[0;34m)\u001B[0m\u001B[0;34m\u001B[0m\u001B[0;34m\u001B[0m\u001B[0m\n\u001B[0;32m---> 68\u001B[0;31m             \u001B[0mfg\u001B[0m \u001B[0;34m=\u001B[0m \u001B[0mself\u001B[0m\u001B[0;34m.\u001B[0m\u001B[0mfun\u001B[0m\u001B[0;34m(\u001B[0m\u001B[0mx\u001B[0m\u001B[0;34m,\u001B[0m \u001B[0;34m*\u001B[0m\u001B[0margs\u001B[0m\u001B[0;34m)\u001B[0m\u001B[0;34m\u001B[0m\u001B[0;34m\u001B[0m\u001B[0m\n\u001B[0m\u001B[1;32m     69\u001B[0m             \u001B[0mself\u001B[0m\u001B[0;34m.\u001B[0m\u001B[0mjac\u001B[0m \u001B[0;34m=\u001B[0m \u001B[0mfg\u001B[0m\u001B[0;34m[\u001B[0m\u001B[0;36m1\u001B[0m\u001B[0;34m]\u001B[0m\u001B[0;34m\u001B[0m\u001B[0;34m\u001B[0m\u001B[0m\n\u001B[1;32m     70\u001B[0m             \u001B[0mself\u001B[0m\u001B[0;34m.\u001B[0m\u001B[0m_value\u001B[0m \u001B[0;34m=\u001B[0m \u001B[0mfg\u001B[0m\u001B[0;34m[\u001B[0m\u001B[0;36m0\u001B[0m\u001B[0;34m]\u001B[0m\u001B[0;34m\u001B[0m\u001B[0;34m\u001B[0m\u001B[0m\n",
      "\u001B[0;32m~/.local/lib/python3.9/site-packages/sklearn/gaussian_process/_gpr.py\u001B[0m in \u001B[0;36mobj_func\u001B[0;34m(theta, eval_gradient)\u001B[0m\n\u001B[1;32m    222\u001B[0m             \u001B[0;32mdef\u001B[0m \u001B[0mobj_func\u001B[0m\u001B[0;34m(\u001B[0m\u001B[0mtheta\u001B[0m\u001B[0;34m,\u001B[0m \u001B[0meval_gradient\u001B[0m\u001B[0;34m=\u001B[0m\u001B[0;32mTrue\u001B[0m\u001B[0;34m)\u001B[0m\u001B[0;34m:\u001B[0m\u001B[0;34m\u001B[0m\u001B[0;34m\u001B[0m\u001B[0m\n\u001B[1;32m    223\u001B[0m                 \u001B[0;32mif\u001B[0m \u001B[0meval_gradient\u001B[0m\u001B[0;34m:\u001B[0m\u001B[0;34m\u001B[0m\u001B[0;34m\u001B[0m\u001B[0m\n\u001B[0;32m--> 224\u001B[0;31m                     lml, grad = self.log_marginal_likelihood(\n\u001B[0m\u001B[1;32m    225\u001B[0m                         theta, eval_gradient=True, clone_kernel=False)\n\u001B[1;32m    226\u001B[0m                     \u001B[0;32mreturn\u001B[0m \u001B[0;34m-\u001B[0m\u001B[0mlml\u001B[0m\u001B[0;34m,\u001B[0m \u001B[0;34m-\u001B[0m\u001B[0mgrad\u001B[0m\u001B[0;34m\u001B[0m\u001B[0;34m\u001B[0m\u001B[0m\n",
      "\u001B[0;32m~/.local/lib/python3.9/site-packages/sklearn/gaussian_process/_gpr.py\u001B[0m in \u001B[0;36mlog_marginal_likelihood\u001B[0;34m(self, theta, eval_gradient, clone_kernel)\u001B[0m\n\u001B[1;32m    474\u001B[0m             \u001B[0my_train\u001B[0m \u001B[0;34m=\u001B[0m \u001B[0my_train\u001B[0m\u001B[0;34m[\u001B[0m\u001B[0;34m:\u001B[0m\u001B[0;34m,\u001B[0m \u001B[0mnp\u001B[0m\u001B[0;34m.\u001B[0m\u001B[0mnewaxis\u001B[0m\u001B[0;34m]\u001B[0m\u001B[0;34m\u001B[0m\u001B[0;34m\u001B[0m\u001B[0m\n\u001B[1;32m    475\u001B[0m \u001B[0;34m\u001B[0m\u001B[0m\n\u001B[0;32m--> 476\u001B[0;31m         \u001B[0malpha\u001B[0m \u001B[0;34m=\u001B[0m \u001B[0mcho_solve\u001B[0m\u001B[0;34m(\u001B[0m\u001B[0;34m(\u001B[0m\u001B[0mL\u001B[0m\u001B[0;34m,\u001B[0m \u001B[0;32mTrue\u001B[0m\u001B[0;34m)\u001B[0m\u001B[0;34m,\u001B[0m \u001B[0my_train\u001B[0m\u001B[0;34m)\u001B[0m  \u001B[0;31m# Line 3\u001B[0m\u001B[0;34m\u001B[0m\u001B[0;34m\u001B[0m\u001B[0m\n\u001B[0m\u001B[1;32m    477\u001B[0m \u001B[0;34m\u001B[0m\u001B[0m\n\u001B[1;32m    478\u001B[0m         \u001B[0;31m# Compute log-likelihood (compare line 7)\u001B[0m\u001B[0;34m\u001B[0m\u001B[0;34m\u001B[0m\u001B[0;34m\u001B[0m\u001B[0m\n",
      "\u001B[0;32m~/.local/lib/python3.9/site-packages/scipy/linalg/decomp_cholesky.py\u001B[0m in \u001B[0;36mcho_solve\u001B[0;34m(c_and_lower, b, overwrite_b, check_finite)\u001B[0m\n\u001B[1;32m    192\u001B[0m     \u001B[0;34m(\u001B[0m\u001B[0mc\u001B[0m\u001B[0;34m,\u001B[0m \u001B[0mlower\u001B[0m\u001B[0;34m)\u001B[0m \u001B[0;34m=\u001B[0m \u001B[0mc_and_lower\u001B[0m\u001B[0;34m\u001B[0m\u001B[0;34m\u001B[0m\u001B[0m\n\u001B[1;32m    193\u001B[0m     \u001B[0;32mif\u001B[0m \u001B[0mcheck_finite\u001B[0m\u001B[0;34m:\u001B[0m\u001B[0;34m\u001B[0m\u001B[0;34m\u001B[0m\u001B[0m\n\u001B[0;32m--> 194\u001B[0;31m         \u001B[0mb1\u001B[0m \u001B[0;34m=\u001B[0m \u001B[0masarray_chkfinite\u001B[0m\u001B[0;34m(\u001B[0m\u001B[0mb\u001B[0m\u001B[0;34m)\u001B[0m\u001B[0;34m\u001B[0m\u001B[0;34m\u001B[0m\u001B[0m\n\u001B[0m\u001B[1;32m    195\u001B[0m         \u001B[0mc\u001B[0m \u001B[0;34m=\u001B[0m \u001B[0masarray_chkfinite\u001B[0m\u001B[0;34m(\u001B[0m\u001B[0mc\u001B[0m\u001B[0;34m)\u001B[0m\u001B[0;34m\u001B[0m\u001B[0;34m\u001B[0m\u001B[0m\n\u001B[1;32m    196\u001B[0m     \u001B[0;32melse\u001B[0m\u001B[0;34m:\u001B[0m\u001B[0;34m\u001B[0m\u001B[0;34m\u001B[0m\u001B[0m\n",
      "\u001B[0;32m/usr/lib/python3/dist-packages/numpy/lib/function_base.py\u001B[0m in \u001B[0;36masarray_chkfinite\u001B[0;34m(a, dtype, order)\u001B[0m\n\u001B[1;32m    483\u001B[0m     \u001B[0ma\u001B[0m \u001B[0;34m=\u001B[0m \u001B[0masarray\u001B[0m\u001B[0;34m(\u001B[0m\u001B[0ma\u001B[0m\u001B[0;34m,\u001B[0m \u001B[0mdtype\u001B[0m\u001B[0;34m=\u001B[0m\u001B[0mdtype\u001B[0m\u001B[0;34m,\u001B[0m \u001B[0morder\u001B[0m\u001B[0;34m=\u001B[0m\u001B[0morder\u001B[0m\u001B[0;34m)\u001B[0m\u001B[0;34m\u001B[0m\u001B[0;34m\u001B[0m\u001B[0m\n\u001B[1;32m    484\u001B[0m     \u001B[0;32mif\u001B[0m \u001B[0ma\u001B[0m\u001B[0;34m.\u001B[0m\u001B[0mdtype\u001B[0m\u001B[0;34m.\u001B[0m\u001B[0mchar\u001B[0m \u001B[0;32min\u001B[0m \u001B[0mtypecodes\u001B[0m\u001B[0;34m[\u001B[0m\u001B[0;34m'AllFloat'\u001B[0m\u001B[0;34m]\u001B[0m \u001B[0;32mand\u001B[0m \u001B[0;32mnot\u001B[0m \u001B[0mnp\u001B[0m\u001B[0;34m.\u001B[0m\u001B[0misfinite\u001B[0m\u001B[0;34m(\u001B[0m\u001B[0ma\u001B[0m\u001B[0;34m)\u001B[0m\u001B[0;34m.\u001B[0m\u001B[0mall\u001B[0m\u001B[0;34m(\u001B[0m\u001B[0;34m)\u001B[0m\u001B[0;34m:\u001B[0m\u001B[0;34m\u001B[0m\u001B[0;34m\u001B[0m\u001B[0m\n\u001B[0;32m--> 485\u001B[0;31m         raise ValueError(\n\u001B[0m\u001B[1;32m    486\u001B[0m             \"array must not contain infs or NaNs\")\n\u001B[1;32m    487\u001B[0m     \u001B[0;32mreturn\u001B[0m \u001B[0ma\u001B[0m\u001B[0;34m\u001B[0m\u001B[0;34m\u001B[0m\u001B[0m\n",
      "\u001B[0;31mValueError\u001B[0m: array must not contain infs or NaNs"
     ]
    }
   ],
   "source": [
    "results = pd.DataFrame()\n",
    "\n",
    "for dataset in tqdm(datasets):\n",
    "    dataset = dataset.dropna(axis=0) # remove nan values\n",
    "    if len(dataset) < 3: # some datasets are empty after removing nan\n",
    "        continue\n",
    "    X, y, id = dataset.drop([\"target\", \"dataset_id\"], axis=1), dataset[\"target\"], min(dataset[\"dataset_id\"])\n",
    "    for name, model in tqdm(models):\n",
    "        opt = model\n",
    "        if name in hyper_params: # for now needed, extra hyperparam spaces required\n",
    "            X_train, X_test, y_train, y_test = train_test_split(X, y, train_size=0.72, random_state=42)\n",
    "            bayesian = BayesSearchCV(model, hyper_params[name], n_iter=50, n_points=4, n_jobs=-1, cv=3) # Takes a long time!\n",
    "            bayesian = bayesian.fit(X_train, y_train)\n",
    "            opt = bayesian.best_estimator_\n",
    "        cv_score_before = cross_val_score(opt, X, y, cv=10)\n",
    "\n",
    "        # some random feature selection method\n",
    "        fs_t = ExtraTreesClassifier(n_estimators=50)\n",
    "        fs_t.fit(X, y)\n",
    "        fsModel = SelectFromModel(fs_t, prefit=True)\n",
    "        X = fsModel.transform(X)\n",
    "\n",
    "        if name in hyper_params: # for now needed, extra hyperparam spaces required\n",
    "            X_train, X_test, y_train, y_test = train_test_split(X, y, train_size=0.72, random_state=42)\n",
    "            bayesian = BayesSearchCV(model, hyper_params[name], n_iter=50, n_points=32, n_jobs=-1, cv=3) # Takes a long time!\n",
    "            bayesian = bayesian.fit(X_train, y_train)\n",
    "            opt = bayesian.best_estimator_\n",
    "            \n",
    "        cv_score_after = cross_val_score(opt, X, y, cv=10)\n",
    "\n",
    "        row = {\n",
    "            \"Dataset_id\": id, \n",
    "            \"model\": name, \n",
    "            \"cv_scores_before\": cv_score_before, \n",
    "            \"cv_scores_after\": cv_score_after\n",
    "        }\n",
    "        results = results.append(row, ignore_index=True)"
   ]
  },
  {
   "cell_type": "code",
   "execution_count": 5,
   "metadata": {},
   "outputs": [
    {
     "data": {
      "text/plain": [
       "1638372912.8623528"
      ]
     },
     "execution_count": 5,
     "metadata": {},
     "output_type": "execute_result"
    }
   ],
   "source": [
    "from time import time\n",
    "\n",
    "time()"
   ]
  },
  {
   "cell_type": "code",
   "execution_count": 77,
   "metadata": {},
   "outputs": [
    {
     "name": "stdout",
     "output_type": "stream",
     "text": [
      "   Dataset_id                   model  \\\n",
      "0        11.0  RandomForestClassifier   \n",
      "\n",
      "                                    cv_scores_before  \\\n",
      "0  [0.5238095238095238, 0.746031746031746, 0.5873...   \n",
      "\n",
      "                                     cv_scores_after  \n",
      "0  [0.4603174603174603, 0.4603174603174603, 0.460...  \n"
     ]
    }
   ],
   "source": [
    "np.set_printoptions(linewidth=10000)\n",
    "print(results)\n",
    "results.to_csv(\"res.csv\", index=False)"
   ]
  }
 ],
 "metadata": {
  "interpreter": {
   "hash": "482e7c184dd3b3c99c3e0d506e6d81eb0bca54ca41bbe4d0f8e487b4d85d71d1"
  },
  "kernelspec": {
   "display_name": "Python 3",
   "language": "python",
   "name": "python3"
  },
  "language_info": {
   "codemirror_mode": {
    "name": "ipython",
    "version": 3
   },
   "file_extension": ".py",
   "mimetype": "text/x-python",
   "name": "python",
   "nbconvert_exporter": "python",
   "pygments_lexer": "ipython3",
   "version": "3.9.5"
  }
 },
 "nbformat": 4,
 "nbformat_minor": 4
}