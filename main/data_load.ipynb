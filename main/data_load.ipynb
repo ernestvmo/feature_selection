{
 "cells": [
  {
   "cell_type": "markdown",
   "metadata": {},
   "source": [
    "### Imports & Installs"
   ]
  },
  {
   "cell_type": "markdown",
   "metadata": {},
   "source": [
    "#### Installs"
   ]
  },
  {
   "cell_type": "code",
   "execution_count": null,
   "metadata": {},
   "outputs": [],
   "source": [
    "!pip3 install openml"
   ]
  },
  {
   "cell_type": "markdown",
   "metadata": {},
   "source": [
    "#### URLs\n",
    "\n",
    "<a src=\"https://docs.openml.org/benchmark/\">https://docs.openml.org/benchmark/</a><br>\n",
    "http://rel.liacs.nl/"
   ]
  },
  {
   "cell_type": "markdown",
   "metadata": {},
   "source": [
    "#### Imports"
   ]
  },
  {
   "cell_type": "code",
   "execution_count": 1,
   "metadata": {},
   "outputs": [],
   "source": [
    "import collections\n",
    "import matplotlib.pyplot as plt\n",
    "import numpy as np\n",
    "import openml\n",
    "import sklearn\n",
    "import pandas as pd\n",
    "\n",
    "from skopt import BayesSearchCV\n",
    "\n",
    "from sklearn.model_selection import cross_val_score\n",
    "from sklearn.tree import DecisionTreeClassifier\n",
    "from sklearn.ensemble import RandomForestClassifier\n",
    "from sklearn.svm import SVC\n",
    "from sklearn.neighbors import NearestNeighbors\n",
    "from sklearn.linear_model import LogisticRegression\n",
    "from sklearn.linear_model import SGDClassifier\n",
    "from sklearn.neural_network import MLPClassifier\n",
    "from sklearn.naive_bayes import GaussianNB\n",
    "\n",
    "from sklearn.ensemble import ExtraTreesClassifier\n",
    "from sklearn.feature_selection import SelectFromModel\n",
    "\n",
    "%matplotlib inline"
   ]
  },
  {
   "cell_type": "markdown",
   "metadata": {},
   "source": [
    "### OpenML100"
   ]
  },
  {
   "cell_type": "code",
   "execution_count": null,
   "metadata": {},
   "outputs": [],
   "source": [
    "study_id = 123\n",
    "tag = 'study_%d' % study_id\n",
    "study = openml.study.get_study(study_id, 'tasks')\n",
    "\n",
    "features_dict = {}\n",
    "targets_dict = {}\n",
    "\n",
    "for task_id in study.tasks:\n",
    "    if task_id != 34536: # for whatever reason this one doesn't work\n",
    "        task = openml.tasks.get_task(task_id)\n",
    "        features_dict[task_id], targets_dict[task_id] = task.get_X_and_y() "
   ]
  },
  {
   "cell_type": "code",
   "execution_count": 13,
   "metadata": {},
   "outputs": [],
   "source": [
    "# type(features_dict[3])\n",
    "type(targets_dict[3])\n",
    "# len(targets_dict[3])\n",
    "datasets_sizes = []\n",
    "datasets_sizes2 = []\n",
    "\n",
    "for key in features_dict.keys():\n",
    "    datasets_sizes.append(features_dict[key].shape[0])\n",
    "    datasets_sizes2.append(features_dict[key].shape[1])\n",
    "\n"
   ]
  },
  {
   "cell_type": "markdown",
   "metadata": {},
   "source": [
    "#### Test other"
   ]
  },
  {
   "cell_type": "code",
   "execution_count": 18,
   "metadata": {},
   "outputs": [
    {
     "data": {
      "text/plain": [
       "(array([233.,   1.,   4.,  45.,   2.,   1.,   0.,   4.,   1.,   0.,   0.,\n",
       "          0.,   0.,   0.,   1.,   0.,   0.,   4.,   0.,   2.]),\n",
       " array([1.00000e+00, 3.06890e+03, 6.13680e+03, 9.20470e+03, 1.22726e+04,\n",
       "        1.53405e+04, 1.84084e+04, 2.14763e+04, 2.45442e+04, 2.76121e+04,\n",
       "        3.06800e+04, 3.37479e+04, 3.68158e+04, 3.98837e+04, 4.29516e+04,\n",
       "        4.60195e+04, 4.90874e+04, 5.21553e+04, 5.52232e+04, 5.82911e+04,\n",
       "        6.13590e+04]),\n",
       " <BarContainer object of 20 artists>)"
      ]
     },
     "execution_count": 18,
     "metadata": {},
     "output_type": "execute_result"
    },
    {
     "data": {
      "image/png": "[encoded data removed]",
      "text/plain": [
       "<Figure size 1080x360 with 2 Axes>"
      ]
     },
     "metadata": {
      "needs_background": "light"
     },
     "output_type": "display_data"
    }
   ],
   "source": [
    "plt.figure(figsize=(15,5))\n",
    "\n",
    "plt.subplot(1,2,1)\n",
    "# plt.xscale('log')\n",
    "plt.hist(datasets_sizes, bins=20)\n",
    "\n",
    "plt.subplot(1,2,2)\n",
    "# plt.xscale('log')\n",
    "plt.hist(datasets_sizes2, bins=20)"
   ]
  },
  {
   "cell_type": "code",
   "execution_count": 21,
   "metadata": {},
   "outputs": [
    {
     "data": {
      "text/plain": [
       "61359"
      ]
     },
     "execution_count": 21,
     "metadata": {},
     "output_type": "execute_result"
    }
   ],
   "source": [
    "datasets_sizes2[np.argmax(datasets_sizes2)]"
   ]
  },
  {
   "cell_type": "code",
   "execution_count": 24,
   "metadata": {},
   "outputs": [
    {
     "data": {
      "text/plain": [
       "3932"
      ]
     },
     "execution_count": 24,
     "metadata": {},
     "output_type": "execute_result"
    }
   ],
   "source": [
    "list(features_dict.keys())[165]"
   ]
  },
  {
   "cell_type": "code",
   "execution_count": 28,
   "metadata": {},
   "outputs": [
    {
     "data": {
      "text/plain": [
       "(3196, 36)"
      ]
     },
     "execution_count": 28,
     "metadata": {},
     "output_type": "execute_result"
    }
   ],
   "source": [
    "features_dict[3932].shape\n",
    "features_dict[3932].shape"
   ]
  },
  {
   "cell_type": "code",
   "execution_count": 12,
   "metadata": {},
   "outputs": [],
   "source": [
    "benchmark_suite = openml.study.get_suite(suite_id='OpenML100')"
   ]
  },
  {
   "cell_type": "code",
   "execution_count": 24,
   "metadata": {},
   "outputs": [],
   "source": [
    "features_dict = {}\n",
    "targets_dict = {}\n",
    "\n",
    "for task_id in benchmark_suite.tasks:\n",
    "    if task_id != 34536: # for whatever reason this one doesn't work\n",
    "        # print(type(task_id))\n",
    "        task = openml.tasks.get_task(task_id)\n",
    "        features_dict[task_id], targets_dict[task_id] = task.get_X_and_y() \n",
    "        "
   ]
  },
  {
   "cell_type": "markdown",
   "metadata": {},
   "source": [
    "### OpenML-CC18"
   ]
  },
  {
   "cell_type": "code",
   "execution_count": 2,
   "metadata": {},
   "outputs": [
    {
     "name": "stdout",
     "output_type": "stream",
     "text": [
      "OpenML Benchmark Suite\n",
      "======================\n",
      "ID..............: 99\n",
      "Name............: OpenML-CC18 Curated Classification benchmark\n",
      "Status..........: active\n",
      "Main Entity Type: task\n",
      "Study URL.......: https://www.openml.org/s/99\n",
      "# of Data.......: 72\n",
      "# of Tasks......: 72\n",
      "Creator.........: https://www.openml.org/u/1\n",
      "Upload Time.....: 2019-02-21 18:47:13 \n",
      "======================\n",
      "71/72 datasets used\n"
     ]
    }
   ],
   "source": [
    "benchmark_suite = openml.study.get_suite(suite_id='OpenML-CC18')\n",
    "\n",
    "datasets = []\n",
    "print(benchmark_suite, \"\\n======================\")\n",
    "for dataset_id in benchmark_suite.data:\n",
    "    data = openml.datasets.get_dataset(dataset_id)\n",
    "    if len(data.features) < 2000: # This skips one huge dataset, but reduces time\n",
    "        X, y, categorical_indicator, attribute_names = data.get_data(\n",
    "            dataset_format=\"array\", target=data.default_target_attribute\n",
    "        )\n",
    "        df = pd.DataFrame(X, columns=attribute_names)\n",
    "        df[\"target\"] = y\n",
    "        df[\"dataset_id\"] = data.id\n",
    "        datasets.append(df)\n",
    "    \n",
    "print(f\"{len(datasets)}/{len(benchmark_suite.data)} datasets used\")"
   ]
  },
  {
   "cell_type": "code",
   "execution_count": 5,
   "metadata": {},
   "outputs": [],
   "source": [
    "# Models\n",
    "models = [\n",
    "    (\"DecisionTreeClassifier\", DecisionTreeClassifier()),\n",
    "    (\"RandomForestClassifier\", RandomForestClassifier()),\n",
    "    (\"SVC\", SVC()), \n",
    "    # (\"NearestNeighbors\", NearestNeighbors()),\n",
    "    (\"LogisticRegression\", LogisticRegression()), \n",
    "    (\"SGDClassifier\", SGDClassifier()), \n",
    "    (\"MLPClassifier\", MLPClassifier()),\n",
    "    (\"GaussianNB\", GaussianNB())\n",
    "]\n",
    "\n",
    "# Hyper parameter spaces for bayesian optimization\n",
    "hyper_params = {\n",
    "    \"SVC2\": {\n",
    "        'C': (1e-6, 1e+6, 'log-uniform'),\n",
    "        'gamma': (1e-6, 1e+1, 'log-uniform'),\n",
    "        'degree': (1, 8),  # integer valued parameter\n",
    "        'kernel': ['linear', 'poly', 'rbf'],  # categorical parameter\n",
    "    }\n",
    "}"
   ]
  },
  {
   "cell_type": "code",
   "execution_count": 7,
   "metadata": {},
   "outputs": [],
   "source": [
    "results = pd.DataFrame()\n",
    "\n",
    "for dataset in datasets:\n",
    "    dataset = dataset.dropna(axis=0) # remove nan values\n",
    "    if len(dataset) < 3: # some datasets are empty after removing nan\n",
    "        continue\n",
    "    X, y, id = dataset.drop([\"target\", \"dataset_id\"], axis=1), dataset[\"target\"], dataset[\"dataset_id\"]\n",
    "    for name, model in models:\n",
    "        opt = model\n",
    "        if name in hyper_params: # for now needed, extra hyperparam spaces required\n",
    "            opt = BayesSearchCV(model, hyper_params[name], n_iter=5, n_points=5, n_jobs=6, cv=3) # Takes a long time!\n",
    "\n",
    "        cv_score_before = cross_val_score(opt, X, y, cv=10)\n",
    "\n",
    "        # some random feature selection method\n",
    "        fs = ExtraTreesClassifier(n_estimators=50)\n",
    "        fs.fit(X, y)\n",
    "        fsModel = SelectFromModel(fs, prefit=True)\n",
    "        X = fsModel.transform(X)\n",
    "            \n",
    "        cv_score_after = cross_val_score(opt, X, y, cv=10)\n",
    "\n",
    "        row = {\"ID\": id, \"model\": name, \"cv_before\": np.mean(cv_score_before), \"cv_after\": np.mean(cv_score_after)}\n",
    "        results = results.append(row, ignore_index=True)"
   ]
  },
  {
   "cell_type": "code",
   "execution_count": 24,
   "metadata": {},
   "outputs": [
    {
     "name": "stdout",
     "output_type": "stream",
     "text": [
      "                                                  ID model  cv_before  \\\n",
      "0  0      11\n",
      "1      11\n",
      "2      11\n",
      "3      11\n",
      "4     ...   SVC   0.868894   \n",
      "1  0      469\n",
      "1      469\n",
      "2      469\n",
      "3      469\n",
      "4 ...   SVC   0.207089   \n",
      "2  0       1462\n",
      "1       1462\n",
      "2       1462\n",
      "3      ...   SVC   0.996350   \n",
      "3  0      1464\n",
      "1      1464\n",
      "2      1464\n",
      "3      146...   SVC   0.760721   \n",
      "\n",
      "   cv_after  \n",
      "0  0.653047  \n",
      "1  0.185665  \n",
      "2  0.929255  \n",
      "3  0.762054  \n"
     ]
    }
   ],
   "source": [
    "print(results)"
   ]
  }
 ],
 "metadata": {
  "interpreter": {
   "hash": "482e7c184dd3b3c99c3e0d506e6d81eb0bca54ca41bbe4d0f8e487b4d85d71d1"
  },
  "kernelspec": {
   "display_name": "Python 3.8.8 64-bit ('base': conda)",
   "language": "python",
   "name": "python3"
  },
  "language_info": {
   "codemirror_mode": {
    "name": "ipython",
    "version": 3
   },
   "file_extension": ".py",
   "mimetype": "text/x-python",
   "name": "python",
   "nbconvert_exporter": "python",
   "pygments_lexer": "ipython3",
   "version": "3.9.7"
  },
  "orig_nbformat": 4
 },
 "nbformat": 4,
 "nbformat_minor": 2
}
