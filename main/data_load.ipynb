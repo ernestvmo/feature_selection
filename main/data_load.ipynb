{
 "cells": [
  {
   "cell_type": "markdown",
   "metadata": {},
   "source": [
    "### Imports & Installs"
   ]
  },
  {
   "cell_type": "markdown",
   "metadata": {},
   "source": [
    "#### Installs"
   ]
  },
  {
   "cell_type": "code",
   "execution_count": null,
   "metadata": {},
   "outputs": [],
   "source": [
    "!pip3 install openml"
   ]
  },
  {
   "cell_type": "markdown",
   "metadata": {},
   "source": [
    "#### URLs\n",
    "\n",
    "<a src=\"https://docs.openml.org/benchmark/\">https://docs.openml.org/benchmark/</a><br>\n",
    "<a src=\"http://rel.liacs.nl/\">http://rel.liacs.nl/</a><br>"
   ]
  },
  {
   "cell_type": "markdown",
   "metadata": {},
   "source": [
    "#### Imports"
   ]
  },
  {
   "cell_type": "code",
   "execution_count": 2,
   "metadata": {},
   "outputs": [],
   "source": [
    "import collections\n",
    "import matplotlib.pyplot as plt\n",
    "import numpy as np\n",
    "import openml\n",
    "import sklearn\n",
    "%matplotlib inline"
   ]
  },
  {
   "cell_type": "markdown",
   "metadata": {},
   "source": [
    "### Paper datasets"
   ]
  },
  {
   "cell_type": "code",
   "execution_count": 3,
   "metadata": {},
   "outputs": [
    {
     "name": "stderr",
     "output_type": "stream",
     "text": [
      "WARNING:openml.datasets.dataset:Cannot convert sparse-data (<class 'scipy.sparse.csr.csr_matrix'>) to 'array'. Returning input data.\n",
      "WARNING:openml.datasets.dataset:Cannot convert sparse-data (<class 'scipy.sparse.csr.csr_matrix'>) to 'array'. Returning input data.\n",
      "WARNING:openml.datasets.dataset:Cannot convert sparse-data (<class 'scipy.sparse.csr.csr_matrix'>) to 'array'. Returning input data.\n",
      "WARNING:openml.datasets.dataset:Cannot convert sparse-data (<class 'scipy.sparse.csr.csr_matrix'>) to 'array'. Returning input data.\n",
      "WARNING:openml.datasets.dataset:Cannot convert sparse-data (<class 'scipy.sparse.csr.csr_matrix'>) to 'array'. Returning input data.\n"
     ]
    }
   ],
   "source": [
    "study_id = 123\n",
    "tag = 'study_%d' % study_id\n",
    "study = openml.study.get_study(study_id, 'tasks')\n",
    "\n",
    "paper_features_dict = {}\n",
    "paper_targets_dict = {}\n",
    "\n",
    "for task_id in study.tasks:\n",
    "    if task_id != 34536: # for whatever reason this one doesn't work\n",
    "        task = openml.tasks.get_task(task_id)\n",
    "        paper_features_dict[task_id], paper_targets_dict[task_id] = task.get_X_and_y() "
   ]
  },
  {
   "cell_type": "markdown",
   "metadata": {},
   "source": [
    "#### Only OpenML"
   ]
  },
  {
   "cell_type": "code",
   "execution_count": 12,
   "metadata": {},
   "outputs": [],
   "source": [
    "benchmark_suite_open100 = openml.study.get_suite(suite_id='OpenML100')"
   ]
  },
  {
   "cell_type": "code",
   "execution_count": 24,
   "metadata": {},
   "outputs": [],
   "source": [
    "open100_features_dict = {}\n",
    "open100_targets_dict = {}\n",
    "\n",
    "for task_id in benchmark_suite_open100.tasks:\n",
    "    if task_id != 34536: # for whatever reason this one doesn't work\n",
    "        # print(type(task_id))\n",
    "        task = openml.tasks.get_task(task_id)\n",
    "        open100_features_dict[task_id], open100_targets_dict[task_id] = task.get_X_and_y() \n",
    "        "
   ]
  },
  {
   "cell_type": "markdown",
   "metadata": {},
   "source": [
    "### OpenML-CC18"
   ]
  },
  {
   "cell_type": "code",
   "execution_count": 3,
   "metadata": {},
   "outputs": [],
   "source": [
    "benchmark_suite_opencc18 = openml.study.get_suite(suite_id='OpenML-CC18')"
   ]
  },
  {
   "cell_type": "code",
   "execution_count": 7,
   "metadata": {},
   "outputs": [],
   "source": [
    "opencc18_features_dict = {}\n",
    "opencc18_targets_dict = {}\n",
    "\n",
    "for task_id in benchmark_suite_opencc18.tasks:\n",
    "    task = openml.tasks.get_task(task_id)\n",
    "    opencc18_features_dict[task_id], opencc18_targets_dict[task_id] = task.get_X_and_y()\n",
    "        "
   ]
  }
 ],
 "metadata": {
  "interpreter": {
   "hash": "482e7c184dd3b3c99c3e0d506e6d81eb0bca54ca41bbe4d0f8e487b4d85d71d1"
  },
  "kernelspec": {
   "display_name": "Python 3.8.8 64-bit ('base': conda)",
   "language": "python",
   "name": "python3"
  },
  "language_info": {
   "codemirror_mode": {
    "name": "ipython",
    "version": 3
   },
   "file_extension": ".py",
   "mimetype": "text/x-python",
   "name": "python",
   "nbconvert_exporter": "python",
   "pygments_lexer": "ipython3",
   "version": "3.9.4"
  },
  "orig_nbformat": 4
 },
 "nbformat": 4,
 "nbformat_minor": 2
}
